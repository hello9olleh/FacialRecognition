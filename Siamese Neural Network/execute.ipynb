{
 "cells": [
  {
   "cell_type": "code",
   "execution_count": 1,
   "metadata": {
    "collapsed": true
   },
   "outputs": [],
   "source": [
    "import cv2\n",
    "import torch\n",
    "from torchvision import transforms\n",
    "\n",
    "from cv2 import CascadeClassifier\n",
    "from PIL import Image\n",
    "\n",
    "import torch.nn.functional as F"
   ]
  },
  {
   "cell_type": "code",
   "execution_count": 2,
   "outputs": [
    {
     "data": {
      "text/plain": "<bound method Module.eval of SiameseNeuralNetwork(\n  (conv1): Sequential(\n    (0): Conv2d(1, 32, kernel_size=(3, 3), stride=(1, 1), padding=(1, 1))\n    (1): ReLU(inplace=True)\n    (2): MaxPool2d(kernel_size=2, stride=2, padding=0, dilation=1, ceil_mode=False)\n  )\n  (conv2): Sequential(\n    (0): Conv2d(32, 64, kernel_size=(3, 3), stride=(1, 1), padding=(1, 1))\n    (1): ReLU(inplace=True)\n    (2): MaxPool2d(kernel_size=2, stride=2, padding=0, dilation=1, ceil_mode=False)\n  )\n  (conv3): Sequential(\n    (0): Conv2d(64, 128, kernel_size=(3, 3), stride=(1, 1), padding=(1, 1))\n    (1): ReLU(inplace=True)\n    (2): MaxPool2d(kernel_size=2, stride=2, padding=0, dilation=1, ceil_mode=False)\n  )\n  (fc1): Sequential(\n    (0): Linear(in_features=8192, out_features=512, bias=True)\n    (1): ReLU(inplace=True)\n    (2): Dropout(p=0.5, inplace=False)\n  )\n  (fc2): Sequential(\n    (0): Linear(in_features=512, out_features=256, bias=True)\n    (1): ReLU(inplace=True)\n    (2): Dropout(p=0.5, inplace=False)\n  )\n  (fc3): Sequential(\n    (0): Linear(in_features=256, out_features=128, bias=True)\n    (1): ReLU(inplace=True)\n    (2): Dropout(p=0.5, inplace=False)\n  )\n)>"
     },
     "execution_count": 2,
     "metadata": {},
     "output_type": "execute_result"
    }
   ],
   "source": [
    "# Loading the Pre-Trained Model\n",
    "model = torch.load('Model.pt')\n",
    "model.eval"
   ],
   "metadata": {
    "collapsed": false
   }
  },
  {
   "cell_type": "code",
   "execution_count": 64,
   "outputs": [],
   "source": [
    "# Identifying the Face\n",
    "def identify(img) :\n",
    "    classifier = CascadeClassifier('haarcascade_frontalface_default.xml')\n",
    "    x, y, width, height = classifier.detectMultiScale(img, minNeighbors = 5)[0]\n",
    "    return cv2.cvtColor(img[y : (y + height)][x : (x + width)], cv2.COLOR_BGR2GRAY)\n",
    "\n",
    "# Reading the Known and Unknown Image\n",
    "imgA = cv2.imread('Images/Ronaldo.jpeg')\n",
    "imgB = cv2.imread('Images/Messi.jpeg')\n",
    "\n",
    "imgA = identify(imgA)\n",
    "imgB = identify(imgB)\n",
    "\n",
    "# Converting the NumPy array into an Image\n",
    "imgA = Image.fromarray(imgA)\n",
    "imgB = Image.fromarray(imgB)\n",
    "\n",
    "# Applying transformation to Resize (64, 64) and Converting the Images into an Tensor\n",
    "trnfrms = transforms.Compose([transforms.Resize((64, 64)), transforms.ToTensor()])\n",
    "\n",
    "imgA = trnfrms(imgA)\n",
    "imgB = trnfrms(imgB)"
   ],
   "metadata": {
    "collapsed": false
   }
  },
  {
   "cell_type": "code",
   "execution_count": 65,
   "outputs": [
    {
     "data": {
      "text/plain": "<Figure size 432x288 with 1 Axes>",
      "image/png": "[encoded data removed]"
     },
     "metadata": {
      "needs_background": "light"
     },
     "output_type": "display_data"
    }
   ],
   "source": [
    "import matplotlib.pyplot as plt\n",
    "\n",
    "plt.imshow(imgB[0], cmap = 'gray')\n",
    "plt.show()"
   ],
   "metadata": {
    "collapsed": false
   }
  },
  {
   "cell_type": "code",
   "execution_count": 66,
   "outputs": [],
   "source": [
    "class ContrastiveLoss() :\n",
    "    def __init__(self, margin = 1.0) :\n",
    "        self.margin = margin\n",
    "\n",
    "    def __call__(self, output1, output2, label) :\n",
    "        euclidean_distance = F.pairwise_distance(output1, output2)\n",
    "        loss_contrastive = torch.mean((label) * torch.pow(euclidean_distance, 2) + (1 - label) * torch.pow(torch.clamp(self.margin - euclidean_distance, min = 0.0), 2))\n",
    "        return loss_contrastive"
   ],
   "metadata": {
    "collapsed": false
   }
  },
  {
   "cell_type": "code",
   "execution_count": 237,
   "outputs": [
    {
     "name": "stdout",
     "output_type": "stream",
     "text": [
      "tensor(0.1279, grad_fn=<MeanBackward0>)\n"
     ]
    }
   ],
   "source": [
    "outputA = model(imgA)\n",
    "outputB = model(imgB)\n",
    "\n",
    "criterion = ContrastiveLoss()\n",
    "print(criterion(outputA, outputB, torch.tensor(1.)))"
   ],
   "metadata": {
    "collapsed": false
   }
  }
 ],
 "metadata": {
  "kernelspec": {
   "display_name": "Python 3",
   "language": "python",
   "name": "python3"
  },
  "language_info": {
   "codemirror_mode": {
    "name": "ipython",
    "version": 2
   },
   "file_extension": ".py",
   "mimetype": "text/x-python",
   "name": "python",
   "nbconvert_exporter": "python",
   "pygments_lexer": "ipython2",
   "version": "2.7.6"
  }
 },
 "nbformat": 4,
 "nbformat_minor": 0
}
